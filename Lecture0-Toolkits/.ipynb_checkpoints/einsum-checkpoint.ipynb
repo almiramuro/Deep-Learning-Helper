{
 "cells": [
  {
   "cell_type": "markdown",
   "id": "436e46ae",
   "metadata": {},
   "source": [
    "Einsum Tutorial\n",
    "\n",
    "Source: https://rockt.github.io/2018/04/30/einsum"
   ]
  },
  {
   "cell_type": "markdown",
   "id": "f5a84ed4",
   "metadata": {},
   "source": [
    "$$b = \\sum_{i=0}A_{ij}$$"
   ]
  },
  {
   "cell_type": "markdown",
   "id": "dd31095c",
   "metadata": {},
   "source": [
    "Matrix Transpose:\n",
    "$$B_{ji} = A_{ij}$$"
   ]
  },
  {
   "cell_type": "code",
   "execution_count": 1,
   "id": "97832773",
   "metadata": {},
   "outputs": [
    {
     "data": {
      "text/plain": [
       "tensor([[0, 3],\n",
       "        [1, 4],\n",
       "        [2, 5]])"
      ]
     },
     "execution_count": 1,
     "metadata": {},
     "output_type": "execute_result"
    }
   ],
   "source": [
    "import torch\n",
    "a = torch.arange(6).reshape(2, 3)\n",
    "torch.einsum('ij->ji', [a])"
   ]
  },
  {
   "cell_type": "markdown",
   "id": "8fe8535e",
   "metadata": {},
   "source": [
    "Sum:\n",
    "\n",
    "$$b = \\sum_{i}sum_{j}A_{ij} = A_{ij}$$"
   ]
  },
  {
   "cell_type": "code",
   "execution_count": null,
   "id": "7e1cbe9b",
   "metadata": {},
   "outputs": [],
   "source": []
  },
  {
   "cell_type": "code",
   "execution_count": 7,
   "id": "c618c377",
   "metadata": {},
   "outputs": [
    {
     "data": {
      "text/plain": [
       "tensor(15)"
      ]
     },
     "execution_count": 7,
     "metadata": {},
     "output_type": "execute_result"
    }
   ],
   "source": [
    "a = torch.arange(6).reshape(2, 3)\n",
    "torch.einsum('ij->', [a])"
   ]
  },
  {
   "cell_type": "code",
   "execution_count": 2,
   "id": "13d1c990",
   "metadata": {},
   "outputs": [
    {
     "data": {
      "text/plain": [
       "tensor(15)"
      ]
     },
     "execution_count": 2,
     "metadata": {},
     "output_type": "execute_result"
    }
   ],
   "source": [
    "a = torch.arange(6).reshape(2, 3)\n",
    "torch.einsum('ij->', [a])"
   ]
  },
  {
   "cell_type": "code",
   "execution_count": 3,
   "id": "ce1ef84d",
   "metadata": {},
   "outputs": [
    {
     "data": {
      "text/plain": [
       "tensor([3, 5, 7])"
      ]
     },
     "execution_count": 3,
     "metadata": {},
     "output_type": "execute_result"
    }
   ],
   "source": [
    "a = torch.arange(6).reshape(2, 3)\n",
    "torch.einsum('ij->j', [a])"
   ]
  },
  {
   "cell_type": "code",
   "execution_count": 4,
   "id": "0fe79fd7",
   "metadata": {},
   "outputs": [
    {
     "data": {
      "text/plain": [
       "tensor([ 3, 12])"
      ]
     },
     "execution_count": 4,
     "metadata": {},
     "output_type": "execute_result"
    }
   ],
   "source": [
    "a = torch.arange(6).reshape(2, 3)\n",
    "torch.einsum('ij->i', [a])"
   ]
  },
  {
   "cell_type": "code",
   "execution_count": 5,
   "id": "bb04d9c3",
   "metadata": {},
   "outputs": [
    {
     "data": {
      "text/plain": [
       "tensor([ 5, 14])"
      ]
     },
     "execution_count": 5,
     "metadata": {},
     "output_type": "execute_result"
    }
   ],
   "source": [
    "a = torch.arange(6).reshape(2, 3)\n",
    "b = torch.arange(3)\n",
    "torch.einsum('ik,k->i', [a, b])"
   ]
  },
  {
   "cell_type": "code",
   "execution_count": null,
   "id": "1c4f9e5e",
   "metadata": {},
   "outputs": [],
   "source": []
  }
 ],
 "metadata": {
  "kernelspec": {
   "display_name": "Python [conda env:torch17py3] *",
   "language": "python",
   "name": "conda-env-torch17py3-py"
  },
  "language_info": {
   "codemirror_mode": {
    "name": "ipython",
    "version": 3
   },
   "file_extension": ".py",
   "mimetype": "text/x-python",
   "name": "python",
   "nbconvert_exporter": "python",
   "pygments_lexer": "ipython3",
   "version": "3.7.11"
  }
 },
 "nbformat": 4,
 "nbformat_minor": 5
}
