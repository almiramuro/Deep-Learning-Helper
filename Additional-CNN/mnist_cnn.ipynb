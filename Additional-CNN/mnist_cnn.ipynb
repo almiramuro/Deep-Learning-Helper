{
 "cells": [
  {
   "cell_type": "code",
   "execution_count": 1,
   "metadata": {},
   "outputs": [],
   "source": [
    "# This notebook is based on the tutorial of Mark Jay in Youtube \n",
    "# (Part 1 - https://www.youtube.com/watch?v=N3oMKS1AfVI) \n",
    "# (Part 2 - https://www.youtube.com/watch?v=lOZGYzTn9Z8) \n",
    "\n",
    "#  libraries important for the models\n",
    "\n",
    "import keras\n",
    "import tensorflow as tf\n",
    "from keras.models import Sequential\n",
    "from keras.layers import Conv2D, MaxPooling2D, Dense, Flatten, Dropout\n",
    "from keras.optimizers import adam_v2\n",
    "\n",
    "#  libraries important for importing the data\n",
    "\n",
    "import numpy as np\n",
    "import pandas as pd\n",
    "import matplotlib.pyplot as plt\n",
    "from sklearn.model_selection import train_test_split    "
   ]
  },
  {
   "cell_type": "code",
   "execution_count": 2,
   "metadata": {},
   "outputs": [
    {
     "data": {
      "text/html": [
       "<div>\n",
       "<style scoped>\n",
       "    .dataframe tbody tr th:only-of-type {\n",
       "        vertical-align: middle;\n",
       "    }\n",
       "\n",
       "    .dataframe tbody tr th {\n",
       "        vertical-align: top;\n",
       "    }\n",
       "\n",
       "    .dataframe thead th {\n",
       "        text-align: right;\n",
       "    }\n",
       "</style>\n",
       "<table border=\"1\" class=\"dataframe\">\n",
       "  <thead>\n",
       "    <tr style=\"text-align: right;\">\n",
       "      <th></th>\n",
       "      <th>label</th>\n",
       "      <th>pixel1</th>\n",
       "      <th>pixel2</th>\n",
       "      <th>pixel3</th>\n",
       "      <th>pixel4</th>\n",
       "      <th>pixel5</th>\n",
       "      <th>pixel6</th>\n",
       "      <th>pixel7</th>\n",
       "      <th>pixel8</th>\n",
       "      <th>pixel9</th>\n",
       "      <th>...</th>\n",
       "      <th>pixel775</th>\n",
       "      <th>pixel776</th>\n",
       "      <th>pixel777</th>\n",
       "      <th>pixel778</th>\n",
       "      <th>pixel779</th>\n",
       "      <th>pixel780</th>\n",
       "      <th>pixel781</th>\n",
       "      <th>pixel782</th>\n",
       "      <th>pixel783</th>\n",
       "      <th>pixel784</th>\n",
       "    </tr>\n",
       "  </thead>\n",
       "  <tbody>\n",
       "    <tr>\n",
       "      <th>0</th>\n",
       "      <td>2</td>\n",
       "      <td>0</td>\n",
       "      <td>0</td>\n",
       "      <td>0</td>\n",
       "      <td>0</td>\n",
       "      <td>0</td>\n",
       "      <td>0</td>\n",
       "      <td>0</td>\n",
       "      <td>0</td>\n",
       "      <td>0</td>\n",
       "      <td>...</td>\n",
       "      <td>0</td>\n",
       "      <td>0</td>\n",
       "      <td>0</td>\n",
       "      <td>0</td>\n",
       "      <td>0</td>\n",
       "      <td>0</td>\n",
       "      <td>0</td>\n",
       "      <td>0</td>\n",
       "      <td>0</td>\n",
       "      <td>0</td>\n",
       "    </tr>\n",
       "    <tr>\n",
       "      <th>1</th>\n",
       "      <td>9</td>\n",
       "      <td>0</td>\n",
       "      <td>0</td>\n",
       "      <td>0</td>\n",
       "      <td>0</td>\n",
       "      <td>0</td>\n",
       "      <td>0</td>\n",
       "      <td>0</td>\n",
       "      <td>0</td>\n",
       "      <td>0</td>\n",
       "      <td>...</td>\n",
       "      <td>0</td>\n",
       "      <td>0</td>\n",
       "      <td>0</td>\n",
       "      <td>0</td>\n",
       "      <td>0</td>\n",
       "      <td>0</td>\n",
       "      <td>0</td>\n",
       "      <td>0</td>\n",
       "      <td>0</td>\n",
       "      <td>0</td>\n",
       "    </tr>\n",
       "    <tr>\n",
       "      <th>2</th>\n",
       "      <td>6</td>\n",
       "      <td>0</td>\n",
       "      <td>0</td>\n",
       "      <td>0</td>\n",
       "      <td>0</td>\n",
       "      <td>0</td>\n",
       "      <td>0</td>\n",
       "      <td>0</td>\n",
       "      <td>5</td>\n",
       "      <td>0</td>\n",
       "      <td>...</td>\n",
       "      <td>0</td>\n",
       "      <td>0</td>\n",
       "      <td>0</td>\n",
       "      <td>30</td>\n",
       "      <td>43</td>\n",
       "      <td>0</td>\n",
       "      <td>0</td>\n",
       "      <td>0</td>\n",
       "      <td>0</td>\n",
       "      <td>0</td>\n",
       "    </tr>\n",
       "    <tr>\n",
       "      <th>3</th>\n",
       "      <td>0</td>\n",
       "      <td>0</td>\n",
       "      <td>0</td>\n",
       "      <td>0</td>\n",
       "      <td>1</td>\n",
       "      <td>2</td>\n",
       "      <td>0</td>\n",
       "      <td>0</td>\n",
       "      <td>0</td>\n",
       "      <td>0</td>\n",
       "      <td>...</td>\n",
       "      <td>3</td>\n",
       "      <td>0</td>\n",
       "      <td>0</td>\n",
       "      <td>0</td>\n",
       "      <td>0</td>\n",
       "      <td>1</td>\n",
       "      <td>0</td>\n",
       "      <td>0</td>\n",
       "      <td>0</td>\n",
       "      <td>0</td>\n",
       "    </tr>\n",
       "    <tr>\n",
       "      <th>4</th>\n",
       "      <td>3</td>\n",
       "      <td>0</td>\n",
       "      <td>0</td>\n",
       "      <td>0</td>\n",
       "      <td>0</td>\n",
       "      <td>0</td>\n",
       "      <td>0</td>\n",
       "      <td>0</td>\n",
       "      <td>0</td>\n",
       "      <td>0</td>\n",
       "      <td>...</td>\n",
       "      <td>0</td>\n",
       "      <td>0</td>\n",
       "      <td>0</td>\n",
       "      <td>0</td>\n",
       "      <td>0</td>\n",
       "      <td>0</td>\n",
       "      <td>0</td>\n",
       "      <td>0</td>\n",
       "      <td>0</td>\n",
       "      <td>0</td>\n",
       "    </tr>\n",
       "  </tbody>\n",
       "</table>\n",
       "<p>5 rows × 785 columns</p>\n",
       "</div>"
      ],
      "text/plain": [
       "   label  pixel1  pixel2  pixel3  pixel4  pixel5  pixel6  pixel7  pixel8  \\\n",
       "0      2       0       0       0       0       0       0       0       0   \n",
       "1      9       0       0       0       0       0       0       0       0   \n",
       "2      6       0       0       0       0       0       0       0       5   \n",
       "3      0       0       0       0       1       2       0       0       0   \n",
       "4      3       0       0       0       0       0       0       0       0   \n",
       "\n",
       "   pixel9  ...  pixel775  pixel776  pixel777  pixel778  pixel779  pixel780  \\\n",
       "0       0  ...         0         0         0         0         0         0   \n",
       "1       0  ...         0         0         0         0         0         0   \n",
       "2       0  ...         0         0         0        30        43         0   \n",
       "3       0  ...         3         0         0         0         0         1   \n",
       "4       0  ...         0         0         0         0         0         0   \n",
       "\n",
       "   pixel781  pixel782  pixel783  pixel784  \n",
       "0         0         0         0         0  \n",
       "1         0         0         0         0  \n",
       "2         0         0         0         0  \n",
       "3         0         0         0         0  \n",
       "4         0         0         0         0  \n",
       "\n",
       "[5 rows x 785 columns]"
      ]
     },
     "execution_count": 2,
     "metadata": {},
     "output_type": "execute_result"
    }
   ],
   "source": [
    "#import the dataset\n",
    "\n",
    "train_df = pd.read_csv(r'fashion-mnist_train.csv')\n",
    "test_df = pd.read_csv(r'fashion-mnist_test.csv')\n",
    "\n",
    "train_df.head()"
   ]
  },
  {
   "cell_type": "code",
   "execution_count": 3,
   "metadata": {},
   "outputs": [],
   "source": [
    "#convert the dataframes to numpy arrays for compatibility input\n",
    "\n",
    "train_data = np.array(train_df, dtype='float32') #when working with tensorflow, every dtype will either be int32 or float32\n",
    "test_data = np.array(test_df, dtype='float32')\n",
    "\n",
    "#looking at the dataframe above, the value of the pixels range from 0 to 255 so in order to make the values from 0 to 1 only, we divide everything by 255 as shown below\n",
    "\n",
    "#slice arrays\n",
    "x_train = train_data[:, 1:] / 255  #take every single row, slice on the columns from column 1\n",
    "y_train = train_data[:, 0]   #take every single row, but only take column 0\n",
    "\n",
    "x_test = test_data[:, 1:] / 255\n",
    "y_test = test_data[:, 0]"
   ]
  },
  {
   "cell_type": "code",
   "execution_count": 4,
   "metadata": {},
   "outputs": [
    {
     "name": "stdout",
     "output_type": "stream",
     "text": [
      "x_train shape: (48000, 784)\n",
      "x_validate shape: (12000, 784)\n",
      "y_train shape: (48000,)\n",
      "y_validate shape: (12000,)\n"
     ]
    }
   ],
   "source": [
    "#divide the training data into validation data and actual training data\n",
    "\n",
    "#returns 4 different arrays\n",
    "x_train, x_validate, y_train, y_validate = train_test_split(\n",
    "    x_train, y_train,           # the arrays we want to split up\n",
    "    test_size = 0.2,            # how much you wanna split the train data into train-validate (test_size = validate size)\n",
    "    random_state = 12345        # specifies how the stuff will be split into the training and validation data (not sure what the 12345 stands for though)\n",
    ")\n",
    "\n",
    "print('x_train shape: {}'.format(x_train.shape))\n",
    "print('x_validate shape: {}'.format(x_validate.shape))\n",
    "print('y_train shape: {}'.format(y_train.shape))\n",
    "print('y_validate shape: {}'.format(y_validate.shape))"
   ]
  },
  {
   "cell_type": "code",
   "execution_count": 5,
   "metadata": {},
   "outputs": [
    {
     "data": {
      "image/png": "[encoded data removed]",
      "text/plain": [
       "<Figure size 432x288 with 1 Axes>"
      ]
     },
     "metadata": {
      "needs_background": "light"
     },
     "output_type": "display_data"
    }
   ],
   "source": [
    "#see visualizations\n",
    "\n",
    "# take one row from the train data and take all columns\n",
    "image = x_train[55, :].reshape((28,28))    # this is a row that is 784 long. we need to reshape to the original image shape which is 28 x 28\n",
    "\n",
    "plt.imshow(image)\n",
    "plt.show()"
   ]
  },
  {
   "cell_type": "markdown",
   "metadata": {},
   "source": [
    "Create the CNN \n",
    "- Define the model\n",
    "- Compile the model\n",
    "- Fit the model"
   ]
  },
  {
   "cell_type": "code",
   "execution_count": 7,
   "metadata": {},
   "outputs": [
    {
     "name": "stdout",
     "output_type": "stream",
     "text": [
      "x_train shape: (48000, 28, 28, 1)\n",
      "x_test shape: (10000, 28, 28, 1)\n",
      "x_validate shape: (12000, 28, 28, 1)\n"
     ]
    }
   ],
   "source": [
    "#define the shape of the image\n",
    "\n",
    "im_rows = 28\n",
    "im_cols = 28\n",
    "batch_size = 512                    # \n",
    "im_shape = (im_rows, im_cols, 1)    # shape is rows x cols x 1; 1 because it is 2D\n",
    "\n",
    "#formatting the x_train test validation\n",
    "x_train = x_train.reshape(x_train.shape[0],*im_shape)\n",
    "x_test = x_test.reshape(x_test.shape[0],*im_shape)\n",
    "x_validate = x_validate.reshape(x_validate.shape[0],*im_shape)\n",
    "\n",
    "print('x_train shape: {}'.format(x_train.shape))\n",
    "print('x_test shape: {}'.format(x_test.shape))\n",
    "print('x_validate shape: {}'.format(x_validate.shape))\n"
   ]
  },
  {
   "cell_type": "code",
   "execution_count": 8,
   "metadata": {},
   "outputs": [],
   "source": [
    "# DEFINE the model\n",
    "\n",
    "cnn_model = Sequential([\n",
    "    #one layer\n",
    "    Conv2D(\n",
    "        filters = 32,           # specifies the output dimension of the layer\n",
    "        kernel_size = 3,        # kernel size 3 by 3\n",
    "        activation = 'relu',\n",
    "        input_shape = im_shape\n",
    "    ),\n",
    "    MaxPooling2D(               # down sampling the output\n",
    "        pool_size = 2           # 28 by 28 images will be downsized (height and width) by a factor of 2\n",
    "    ),\n",
    "    Dropout(0.2),               # randomly drop out certain connections to the next layer\n",
    "    Flatten(),                  # flatten all the layers\n",
    "    Dense(                      \n",
    "        32,                     # \"Filter\" units specifies the output dimension of the layer\n",
    "        activation = 'relu'\n",
    "    ),          \n",
    "    Dense(\n",
    "        10,                     # \"Filter\" units specifies the output dimension of the layer\n",
    "        activation ='softmax'   # softmax is preferred activation for an output layer (pls read more about this)\n",
    "    )\n",
    "])"
   ]
  },
  {
   "cell_type": "code",
   "execution_count": 10,
   "metadata": {},
   "outputs": [
    {
     "name": "stdout",
     "output_type": "stream",
     "text": [
      "WARNING:tensorflow:`write_grads` will be ignored in TensorFlow 2.0 for the `TensorBoard` Callback.\n"
     ]
    }
   ],
   "source": [
    "# Logging some data to a file using tensorboard\n",
    "\n",
    "tensorboard = tf.compat.v1.keras.callbacks.TensorBoard(\n",
    "    log_dir = r'logs/{}'.format('cnn_1layer'),\n",
    "    write_graph = True,\n",
    "    write_grads = True,\n",
    "    histogram_freq = 1,\n",
    "    write_images = True\n",
    ")"
   ]
  },
  {
   "cell_type": "code",
   "execution_count": 11,
   "metadata": {},
   "outputs": [],
   "source": [
    "# Compile the model\n",
    "\n",
    "cnn_model.compile(\n",
    "    loss = 'sparse_categorical_crossentropy',           # read more about the loss\n",
    "    optimizer = 'adam',                                 # lr = learning rate; read about Adam\n",
    "    metrics = ['accuracy']                              # specify which things we want to minimize/maximize (in this application, maximize accuracy)\n",
    ")"
   ]
  },
  {
   "cell_type": "code",
   "execution_count": 12,
   "metadata": {},
   "outputs": [
    {
     "name": "stdout",
     "output_type": "stream",
     "text": [
      "(48000, 28, 28, 1)\n",
      "(12000, 28, 28, 1)\n",
      "Epoch 1/10\n",
      "94/94 [==============================] - 23s 221ms/step - loss: 0.7714 - accuracy: 0.7340 - val_loss: 0.5170 - val_accuracy: 0.7980\n",
      "Epoch 2/10\n",
      "94/94 [==============================] - 21s 226ms/step - loss: 0.4432 - accuracy: 0.8412 - val_loss: 0.4009 - val_accuracy: 0.8618\n",
      "Epoch 3/10\n",
      "94/94 [==============================] - 27s 288ms/step - loss: 0.3852 - accuracy: 0.8656 - val_loss: 0.3618 - val_accuracy: 0.8751\n",
      "Epoch 4/10\n",
      "94/94 [==============================] - 31s 327ms/step - loss: 0.3531 - accuracy: 0.8758 - val_loss: 0.3392 - val_accuracy: 0.8814\n",
      "Epoch 5/10\n",
      "94/94 [==============================] - 25s 265ms/step - loss: 0.3334 - accuracy: 0.8825 - val_loss: 0.3166 - val_accuracy: 0.8888\n",
      "Epoch 6/10\n",
      "94/94 [==============================] - 21s 222ms/step - loss: 0.3193 - accuracy: 0.8877 - val_loss: 0.3162 - val_accuracy: 0.8860\n",
      "Epoch 7/10\n",
      "94/94 [==============================] - 27s 287ms/step - loss: 0.3067 - accuracy: 0.8901 - val_loss: 0.3018 - val_accuracy: 0.8928\n",
      "Epoch 8/10\n",
      "94/94 [==============================] - 33s 347ms/step - loss: 0.2927 - accuracy: 0.8960 - val_loss: 0.2887 - val_accuracy: 0.8994\n",
      "Epoch 9/10\n",
      "94/94 [==============================] - 31s 325ms/step - loss: 0.2895 - accuracy: 0.8970 - val_loss: 0.2878 - val_accuracy: 0.8983\n",
      "Epoch 10/10\n",
      "94/94 [==============================] - 29s 308ms/step - loss: 0.2763 - accuracy: 0.9026 - val_loss: 0.2784 - val_accuracy: 0.9018\n"
     ]
    },
    {
     "data": {
      "text/plain": [
       "<keras.callbacks.History at 0x2cb3aec8f40>"
      ]
     },
     "execution_count": 12,
     "metadata": {},
     "output_type": "execute_result"
    }
   ],
   "source": [
    "# FIT the model\n",
    "print(x_train.shape)\n",
    "print(x_validate.shape)\n",
    "cnn_model.fit(\n",
    "    x_train, y_train, \n",
    "    batch_size = batch_size,                            # how many rows of data is used for each step of stochastic gradient descent\n",
    "    epochs = 10,\n",
    "    verbose = 1,                                        # Verbose = set to true, Keras will print a log\n",
    "    validation_data = (x_validate, y_validate),\n",
    "    callbacks = [tensorboard]\n",
    ")\n",
    "\n"
   ]
  },
  {
   "cell_type": "code",
   "execution_count": null,
   "metadata": {},
   "outputs": [],
   "source": [
    "score = cnn_model.evaluate(x_test, y_test, verbose = 0)\n",
    "\n",
    "print('test loss: {:.4f}'.format(score[0]))\n",
    "print('test acc: {:.4f}'.format(score[1]))"
   ]
  }
 ],
 "metadata": {
  "interpreter": {
   "hash": "1c1e96344996f3058d8883c930bd2ba75d2406938ac81fce909d07c2e4ab2939"
  },
  "kernelspec": {
   "display_name": "Python 3.9.1 ('dl_helper')",
   "language": "python",
   "name": "python3"
  },
  "language_info": {
   "codemirror_mode": {
    "name": "ipython",
    "version": 3
   },
   "file_extension": ".py",
   "mimetype": "text/x-python",
   "name": "python",
   "nbconvert_exporter": "python",
   "pygments_lexer": "ipython3",
   "version": "3.9.1"
  },
  "orig_nbformat": 4
 },
 "nbformat": 4,
 "nbformat_minor": 2
}
